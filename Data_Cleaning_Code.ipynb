{
 "cells": [
  {
   "cell_type": "markdown",
   "id": "7673c397-8f57-4738-8a92-a42d3bf9281c",
   "metadata": {
    "jp-MarkdownHeadingCollapsed": true
   },
   "source": [
    "# WARNING DO NOT COMMIT DIRECTLY TO MAIN GET ON YOUR OWN BRANCH FIRST 🙏🏼🙌🏼"
   ]
  },
  {
   "cell_type": "markdown",
   "id": "a1970001-b2d1-42d4-9201-b62245088227",
   "metadata": {},
   "source": [
    "# Setting up the GPU for use!"
   ]
  },
  {
   "cell_type": "code",
   "execution_count": 1,
   "id": "ae897dac-2f79-4b70-8fb2-e4e9fb645b2a",
   "metadata": {},
   "outputs": [
    {
     "name": "stdout",
     "output_type": "stream",
     "text": [
      "device: cuda\n",
      "random seed: 1234\n"
     ]
    }
   ],
   "source": [
    "import random\n",
    "import torch\n",
    "import numpy as np\n",
    "import pandas as pd\n",
    "from tqdm.notebook import tqdm\n",
    "\n",
    "# enable tqdm in pandas\n",
    "tqdm.pandas()\n",
    "\n",
    "# set to True to use the gpu (if there is one available)\n",
    "use_gpu = True\n",
    "\n",
    "# select device\n",
    "device = torch.device('cuda' if use_gpu and torch.cuda.is_available() else 'cpu')\n",
    "print(f'device: {device.type}')\n",
    "\n",
    "# random seed\n",
    "seed = 1234\n",
    "\n",
    "# set random seed\n",
    "if seed is not None:\n",
    "    print(f'random seed: {seed}')\n",
    "    random.seed(seed)\n",
    "    np.random.seed(seed)\n",
    "    torch.manual_seed(seed)"
   ]
  },
  {
   "cell_type": "markdown",
   "id": "98f1733a-d355-4deb-9cfd-81acd20cf3c0",
   "metadata": {},
   "source": [
    "## First import frame without confidental columns!"
   ]
  },
  {
   "cell_type": "code",
   "execution_count": 8,
   "id": "2ef7c065-4241-4407-b24e-5775f00969f7",
   "metadata": {},
   "outputs": [
    {
     "data": {
      "text/html": [
       "<div>\n",
       "<style scoped>\n",
       "    .dataframe tbody tr th:only-of-type {\n",
       "        vertical-align: middle;\n",
       "    }\n",
       "\n",
       "    .dataframe tbody tr th {\n",
       "        vertical-align: top;\n",
       "    }\n",
       "\n",
       "    .dataframe thead th {\n",
       "        text-align: right;\n",
       "    }\n",
       "</style>\n",
       "<table border=\"1\" class=\"dataframe\">\n",
       "  <thead>\n",
       "    <tr style=\"text-align: right;\">\n",
       "      <th></th>\n",
       "      <th>Gender</th>\n",
       "      <th>Age</th>\n",
       "      <th>Department</th>\n",
       "      <th>Attendance (%)</th>\n",
       "      <th>Midterm_Score</th>\n",
       "      <th>Final_Score</th>\n",
       "      <th>Assignments_Avg</th>\n",
       "      <th>Quizzes_Avg</th>\n",
       "      <th>Participation_Score</th>\n",
       "      <th>Projects_Score</th>\n",
       "      <th>Total_Score</th>\n",
       "      <th>Grade</th>\n",
       "      <th>Study_Hours_per_Week</th>\n",
       "      <th>Extracurricular_Activities</th>\n",
       "      <th>Internet_Access_at_Home</th>\n",
       "      <th>Parent_Education_Level</th>\n",
       "      <th>Family_Income_Level</th>\n",
       "      <th>Stress_Level (1-10)</th>\n",
       "      <th>Sleep_Hours_per_Night</th>\n",
       "    </tr>\n",
       "  </thead>\n",
       "  <tbody>\n",
       "    <tr>\n",
       "      <th>0</th>\n",
       "      <td>Female</td>\n",
       "      <td>22</td>\n",
       "      <td>Mathematics</td>\n",
       "      <td>97.36</td>\n",
       "      <td>40.61</td>\n",
       "      <td>59.61</td>\n",
       "      <td>73.69</td>\n",
       "      <td>53.17</td>\n",
       "      <td>73.4</td>\n",
       "      <td>62.84</td>\n",
       "      <td>59.8865</td>\n",
       "      <td>F</td>\n",
       "      <td>10.3</td>\n",
       "      <td>Yes</td>\n",
       "      <td>No</td>\n",
       "      <td>Master's</td>\n",
       "      <td>Medium</td>\n",
       "      <td>1</td>\n",
       "      <td>5.9</td>\n",
       "    </tr>\n",
       "    <tr>\n",
       "      <th>1</th>\n",
       "      <td>Male</td>\n",
       "      <td>18</td>\n",
       "      <td>Business</td>\n",
       "      <td>97.71</td>\n",
       "      <td>57.27</td>\n",
       "      <td>74.00</td>\n",
       "      <td>74.23</td>\n",
       "      <td>98.23</td>\n",
       "      <td>88.0</td>\n",
       "      <td>98.23</td>\n",
       "      <td>81.9170</td>\n",
       "      <td>B</td>\n",
       "      <td>27.1</td>\n",
       "      <td>No</td>\n",
       "      <td>No</td>\n",
       "      <td>High School</td>\n",
       "      <td>Low</td>\n",
       "      <td>4</td>\n",
       "      <td>4.3</td>\n",
       "    </tr>\n",
       "    <tr>\n",
       "      <th>2</th>\n",
       "      <td>Male</td>\n",
       "      <td>24</td>\n",
       "      <td>Engineering</td>\n",
       "      <td>99.52</td>\n",
       "      <td>41.84</td>\n",
       "      <td>63.85</td>\n",
       "      <td>85.85</td>\n",
       "      <td>50.00</td>\n",
       "      <td>4.7</td>\n",
       "      <td>91.22</td>\n",
       "      <td>67.7170</td>\n",
       "      <td>D</td>\n",
       "      <td>12.4</td>\n",
       "      <td>Yes</td>\n",
       "      <td>No</td>\n",
       "      <td>High School</td>\n",
       "      <td>Low</td>\n",
       "      <td>9</td>\n",
       "      <td>6.1</td>\n",
       "    </tr>\n",
       "    <tr>\n",
       "      <th>3</th>\n",
       "      <td>Female</td>\n",
       "      <td>24</td>\n",
       "      <td>Engineering</td>\n",
       "      <td>90.38</td>\n",
       "      <td>45.65</td>\n",
       "      <td>44.44</td>\n",
       "      <td>68.10</td>\n",
       "      <td>66.27</td>\n",
       "      <td>4.2</td>\n",
       "      <td>55.48</td>\n",
       "      <td>51.6535</td>\n",
       "      <td>F</td>\n",
       "      <td>25.5</td>\n",
       "      <td>No</td>\n",
       "      <td>Yes</td>\n",
       "      <td>High School</td>\n",
       "      <td>Low</td>\n",
       "      <td>8</td>\n",
       "      <td>4.9</td>\n",
       "    </tr>\n",
       "    <tr>\n",
       "      <th>4</th>\n",
       "      <td>Female</td>\n",
       "      <td>23</td>\n",
       "      <td>CS</td>\n",
       "      <td>59.41</td>\n",
       "      <td>53.13</td>\n",
       "      <td>61.77</td>\n",
       "      <td>67.66</td>\n",
       "      <td>83.98</td>\n",
       "      <td>64.3</td>\n",
       "      <td>87.43</td>\n",
       "      <td>71.4030</td>\n",
       "      <td>C</td>\n",
       "      <td>13.3</td>\n",
       "      <td>Yes</td>\n",
       "      <td>No</td>\n",
       "      <td>Master's</td>\n",
       "      <td>Medium</td>\n",
       "      <td>6</td>\n",
       "      <td>4.5</td>\n",
       "    </tr>\n",
       "    <tr>\n",
       "      <th>...</th>\n",
       "      <td>...</td>\n",
       "      <td>...</td>\n",
       "      <td>...</td>\n",
       "      <td>...</td>\n",
       "      <td>...</td>\n",
       "      <td>...</td>\n",
       "      <td>...</td>\n",
       "      <td>...</td>\n",
       "      <td>...</td>\n",
       "      <td>...</td>\n",
       "      <td>...</td>\n",
       "      <td>...</td>\n",
       "      <td>...</td>\n",
       "      <td>...</td>\n",
       "      <td>...</td>\n",
       "      <td>...</td>\n",
       "      <td>...</td>\n",
       "      <td>...</td>\n",
       "      <td>...</td>\n",
       "    </tr>\n",
       "    <tr>\n",
       "      <th>4995</th>\n",
       "      <td>Male</td>\n",
       "      <td>19</td>\n",
       "      <td>CS</td>\n",
       "      <td>96.09</td>\n",
       "      <td>45.86</td>\n",
       "      <td>45.63</td>\n",
       "      <td>74.13</td>\n",
       "      <td>81.53</td>\n",
       "      <td>9.8</td>\n",
       "      <td>51.66</td>\n",
       "      <td>53.5470</td>\n",
       "      <td>F</td>\n",
       "      <td>7.8</td>\n",
       "      <td>No</td>\n",
       "      <td>No</td>\n",
       "      <td>Master's</td>\n",
       "      <td>Medium</td>\n",
       "      <td>10</td>\n",
       "      <td>4.5</td>\n",
       "    </tr>\n",
       "    <tr>\n",
       "      <th>4996</th>\n",
       "      <td>Male</td>\n",
       "      <td>19</td>\n",
       "      <td>Mathematics</td>\n",
       "      <td>96.30</td>\n",
       "      <td>78.67</td>\n",
       "      <td>47.42</td>\n",
       "      <td>57.89</td>\n",
       "      <td>85.96</td>\n",
       "      <td>47.8</td>\n",
       "      <td>52.33</td>\n",
       "      <td>59.0240</td>\n",
       "      <td>F</td>\n",
       "      <td>24.2</td>\n",
       "      <td>No</td>\n",
       "      <td>Yes</td>\n",
       "      <td>NaN</td>\n",
       "      <td>Medium</td>\n",
       "      <td>4</td>\n",
       "      <td>7.2</td>\n",
       "    </tr>\n",
       "    <tr>\n",
       "      <th>4997</th>\n",
       "      <td>Female</td>\n",
       "      <td>24</td>\n",
       "      <td>CS</td>\n",
       "      <td>89.94</td>\n",
       "      <td>50.84</td>\n",
       "      <td>65.83</td>\n",
       "      <td>84.69</td>\n",
       "      <td>82.27</td>\n",
       "      <td>7.5</td>\n",
       "      <td>97.89</td>\n",
       "      <td>74.7560</td>\n",
       "      <td>C</td>\n",
       "      <td>7.6</td>\n",
       "      <td>No</td>\n",
       "      <td>Yes</td>\n",
       "      <td>NaN</td>\n",
       "      <td>High</td>\n",
       "      <td>5</td>\n",
       "      <td>6.6</td>\n",
       "    </tr>\n",
       "    <tr>\n",
       "      <th>4998</th>\n",
       "      <td>Male</td>\n",
       "      <td>23</td>\n",
       "      <td>Engineering</td>\n",
       "      <td>99.09</td>\n",
       "      <td>55.44</td>\n",
       "      <td>57.45</td>\n",
       "      <td>78.78</td>\n",
       "      <td>55.96</td>\n",
       "      <td>62.9</td>\n",
       "      <td>84.74</td>\n",
       "      <td>68.6585</td>\n",
       "      <td>D</td>\n",
       "      <td>14.5</td>\n",
       "      <td>Yes</td>\n",
       "      <td>No</td>\n",
       "      <td>PhD</td>\n",
       "      <td>Medium</td>\n",
       "      <td>10</td>\n",
       "      <td>5.9</td>\n",
       "    </tr>\n",
       "    <tr>\n",
       "      <th>4999</th>\n",
       "      <td>Female</td>\n",
       "      <td>21</td>\n",
       "      <td>Mathematics</td>\n",
       "      <td>90.33</td>\n",
       "      <td>93.29</td>\n",
       "      <td>88.42</td>\n",
       "      <td>87.06</td>\n",
       "      <td>65.22</td>\n",
       "      <td>64.0</td>\n",
       "      <td>66.23</td>\n",
       "      <td>78.7485</td>\n",
       "      <td>C</td>\n",
       "      <td>29.9</td>\n",
       "      <td>Yes</td>\n",
       "      <td>Yes</td>\n",
       "      <td>PhD</td>\n",
       "      <td>High</td>\n",
       "      <td>2</td>\n",
       "      <td>5.3</td>\n",
       "    </tr>\n",
       "  </tbody>\n",
       "</table>\n",
       "<p>5000 rows × 19 columns</p>\n",
       "</div>"
      ],
      "text/plain": [
       "      Gender  Age   Department  Attendance (%)  Midterm_Score  Final_Score  \\\n",
       "0     Female   22  Mathematics           97.36          40.61        59.61   \n",
       "1       Male   18     Business           97.71          57.27        74.00   \n",
       "2       Male   24  Engineering           99.52          41.84        63.85   \n",
       "3     Female   24  Engineering           90.38          45.65        44.44   \n",
       "4     Female   23           CS           59.41          53.13        61.77   \n",
       "...      ...  ...          ...             ...            ...          ...   \n",
       "4995    Male   19           CS           96.09          45.86        45.63   \n",
       "4996    Male   19  Mathematics           96.30          78.67        47.42   \n",
       "4997  Female   24           CS           89.94          50.84        65.83   \n",
       "4998    Male   23  Engineering           99.09          55.44        57.45   \n",
       "4999  Female   21  Mathematics           90.33          93.29        88.42   \n",
       "\n",
       "      Assignments_Avg  Quizzes_Avg  Participation_Score  Projects_Score  \\\n",
       "0               73.69        53.17                 73.4           62.84   \n",
       "1               74.23        98.23                 88.0           98.23   \n",
       "2               85.85        50.00                  4.7           91.22   \n",
       "3               68.10        66.27                  4.2           55.48   \n",
       "4               67.66        83.98                 64.3           87.43   \n",
       "...               ...          ...                  ...             ...   \n",
       "4995            74.13        81.53                  9.8           51.66   \n",
       "4996            57.89        85.96                 47.8           52.33   \n",
       "4997            84.69        82.27                  7.5           97.89   \n",
       "4998            78.78        55.96                 62.9           84.74   \n",
       "4999            87.06        65.22                 64.0           66.23   \n",
       "\n",
       "      Total_Score Grade  Study_Hours_per_Week Extracurricular_Activities  \\\n",
       "0         59.8865     F                  10.3                        Yes   \n",
       "1         81.9170     B                  27.1                         No   \n",
       "2         67.7170     D                  12.4                        Yes   \n",
       "3         51.6535     F                  25.5                         No   \n",
       "4         71.4030     C                  13.3                        Yes   \n",
       "...           ...   ...                   ...                        ...   \n",
       "4995      53.5470     F                   7.8                         No   \n",
       "4996      59.0240     F                  24.2                         No   \n",
       "4997      74.7560     C                   7.6                         No   \n",
       "4998      68.6585     D                  14.5                        Yes   \n",
       "4999      78.7485     C                  29.9                        Yes   \n",
       "\n",
       "     Internet_Access_at_Home Parent_Education_Level Family_Income_Level  \\\n",
       "0                         No               Master's              Medium   \n",
       "1                         No            High School                 Low   \n",
       "2                         No            High School                 Low   \n",
       "3                        Yes            High School                 Low   \n",
       "4                         No               Master's              Medium   \n",
       "...                      ...                    ...                 ...   \n",
       "4995                      No               Master's              Medium   \n",
       "4996                     Yes                    NaN              Medium   \n",
       "4997                     Yes                    NaN                High   \n",
       "4998                      No                    PhD              Medium   \n",
       "4999                     Yes                    PhD                High   \n",
       "\n",
       "      Stress_Level (1-10)  Sleep_Hours_per_Night  \n",
       "0                       1                    5.9  \n",
       "1                       4                    4.3  \n",
       "2                       9                    6.1  \n",
       "3                       8                    4.9  \n",
       "4                       6                    4.5  \n",
       "...                   ...                    ...  \n",
       "4995                   10                    4.5  \n",
       "4996                    4                    7.2  \n",
       "4997                    5                    6.6  \n",
       "4998                   10                    5.9  \n",
       "4999                    2                    5.3  \n",
       "\n",
       "[5000 rows x 19 columns]"
      ]
     },
     "execution_count": 8,
     "metadata": {},
     "output_type": "execute_result"
    }
   ],
   "source": [
    "education_data = pd.read_csv('students_clean.csv')\n",
    "education_data"
   ]
  },
  {
   "cell_type": "markdown",
   "id": "aca92a1a-eb7a-4bb2-8254-5809d9b94063",
   "metadata": {},
   "source": [
    "## Encoding Parent Education with KNN"
   ]
  },
  {
   "cell_type": "markdown",
   "id": "d2253ac3-1683-4d3d-9c19-0b742e06cd0c",
   "metadata": {},
   "source": [
    "So the first thing that I need to think about here is how do I define a similar student in my similarity algorithm. My initial thought is that the best indicators for similar circumstances are going to be the \"Family_Income_Level\", \"Internet_Access_at_Home\", and then maybe the same gender and a similar age. We'll start there and see where that gits us."
   ]
  },
  {
   "cell_type": "code",
   "execution_count": 28,
   "id": "a372c208-2733-4c16-b5ec-5d1318c9c7a0",
   "metadata": {},
   "outputs": [],
   "source": [
    "education_data_copy = education_data.copy()"
   ]
  },
  {
   "cell_type": "code",
   "execution_count": 45,
   "id": "141ef75c-b679-4340-9f25-e4ae4d3ef184",
   "metadata": {},
   "outputs": [],
   "source": [
    "# Now define the algorithm with these similarity measure.\n",
    "\n",
    "def get_knn_parent_educat(ind,k,educ_df,display_dist_frame):\n",
    "    \n",
    "    educ_df_dist_frame = educ_df.copy()\n",
    "    educ_df_dist_frame['Gender'] = np.where(educ_df_dist_frame['Gender']=='Male',1,0)\n",
    "    educ_df_dist_frame['Internet_Access_at_Home'] = \\\n",
    "        np.where(educ_df_dist_frame['Internet_Access_at_Home']=='No',1,0)\n",
    "    map_fam_inc_dict = {'Low':1,'Medium':2,'High':3}\n",
    "    educ_df_dist_frame['Family_Income_Level'] = educ_df_dist_frame['Family_Income_Level'].map(map_fam_inc_dict)\n",
    "\n",
    "\n",
    "    \n",
    "    # So first I will define a margin for the numerical age column, I also need to decide if I want\n",
    "    # to look higher or lower, I feel like higher ages probably would be less similar to somebody of \n",
    "    # a lower age so I will define the margin as being able to be slightly below.\n",
    "    age_below_margin = 3\n",
    "\n",
    "    # Now get all the information for the person that we want to impute the value in this column of.\n",
    "    #display(educ_df_dist_frame.iloc[ind])\n",
    "    this_age = educ_df_dist_frame.at[ind,\"Age\"]\n",
    "    this_gender = educ_df_dist_frame.at[ind,\"Gender\"]\n",
    "    this_intas = educ_df_dist_frame.at[ind,\"Internet_Access_at_Home\"]\n",
    "    this_faminc_lev = educ_df_dist_frame.at[ind,\"Family_Income_Level\"]\n",
    "\n",
    "    # Drop the row corresponding to the one we are trying to impute from the distance.\n",
    "    educ_df_dist_frame = educ_df_dist_frame.drop(ind)[[\"Age\",\"Gender\", \\\n",
    "                                                                \"Internet_Access_at_Home\",\"Family_Income_Level\",\"Parent_Education_Level\"]]\n",
    "    \n",
    "    educ_df_dist_frame = educ_df_dist_frame[~educ_df_dist_frame['Parent_Education_Level'].isna()]\n",
    "    \n",
    "\n",
    "\n",
    "    educ_df_dist_frame['Age'] = educ_df_dist_frame['Age'].apply(lambda x: this_age-x) # 0 for same age positve for younger\n",
    "    educ_df_dist_frame['Gender'] = educ_df_dist_frame['Gender'].apply(lambda x: np.abs(this_gender-x)) # 0 for same 1 for not.\n",
    "    educ_df_dist_frame['Internet_Access_at_Home'] = \\\n",
    "                            educ_df_dist_frame['Internet_Access_at_Home'].apply(lambda x: np.abs(this_intas-x)) # 0 for the same 1 for not.\n",
    "    educ_df_dist_frame['Family_Income_Level'] = educ_df_dist_frame['Family_Income_Level'].apply(lambda x: this_faminc_lev-x) # 0 if same, positive if lower, negative if higher.\n",
    "\n",
    "    # Now create a similarity report!! This will definently need to be fine tuned, for the age and family\n",
    "    # income and and age I will need to fintune if lower or higher makes the similarity score more positive.\n",
    "    # Right now I feel that we want people that are lower in both catagories to be more similar as for example:\n",
    "    # I would think a middle class person would share a lot more similarities with a lower class person then\n",
    "    # a higher class person. Simarly for age I would think someone that is slightly younger would share more\n",
    "    # take for example a younger person that is also in college for a person that is in college vs a older\n",
    "    # person that is out of college. I think the persom still in college should be the most similar.\n",
    "    def compute_similarity_score(row):\n",
    "        return(row['Age']+row['Gender']+row['Internet_Access_at_Home']+row['Family_Income_Level'])\n",
    "    \n",
    "\n",
    "    # Now apply this formula to each row in the frame.\n",
    "    educ_df_dist_frame['sim_score'] = educ_df_dist_frame.apply(compute_similarity_score,axis=1)\n",
    "    \n",
    "    # Now sort in descending order based upon the similarity score.\n",
    "    educ_df_dist_frame = educ_df_dist_frame.sort_values(by='sim_score',ascending=False).reset_index(drop=True)\n",
    "\n",
    "    # Now pick the k nearest neighbors. I will do three cases here. Since I did a score there is guarnteed to\n",
    "    # to be k or more neighbors I believe.\n",
    "    top_k_res = educ_df_dist_frame.iloc[:k]\n",
    "\n",
    "    if display_dist_frame:\n",
    "        display(top_k_res)\n",
    "\n",
    "    return(top_k_res[['Parent_Education_Level']].mode().at[0,'Parent_Education_Level'])"
   ]
  },
  {
   "cell_type": "code",
   "execution_count": 46,
   "id": "48426a2a-9f40-49b9-90d9-1ff63989c707",
   "metadata": {},
   "outputs": [
    {
     "data": {
      "text/plain": [
       "Gender                        Female\n",
       "Age                               24\n",
       "Department                        CS\n",
       "Attendance (%)                 89.94\n",
       "Midterm_Score                  50.84\n",
       "Final_Score                    65.83\n",
       "Assignments_Avg                84.69\n",
       "Quizzes_Avg                    82.27\n",
       "Participation_Score              7.5\n",
       "Projects_Score                 97.89\n",
       "Total_Score                   74.756\n",
       "Grade                              C\n",
       "Study_Hours_per_Week             7.6\n",
       "Extracurricular_Activities        No\n",
       "Internet_Access_at_Home          Yes\n",
       "Parent_Education_Level           NaN\n",
       "Family_Income_Level             High\n",
       "Stress_Level (1-10)                5\n",
       "Sleep_Hours_per_Night            6.6\n",
       "Name: 4997, dtype: object"
      ]
     },
     "metadata": {},
     "output_type": "display_data"
    },
    {
     "name": "stdout",
     "output_type": "stream",
     "text": [
      "\n",
      "\n",
      "\n"
     ]
    },
    {
     "data": {
      "text/html": [
       "<div>\n",
       "<style scoped>\n",
       "    .dataframe tbody tr th:only-of-type {\n",
       "        vertical-align: middle;\n",
       "    }\n",
       "\n",
       "    .dataframe tbody tr th {\n",
       "        vertical-align: top;\n",
       "    }\n",
       "\n",
       "    .dataframe thead th {\n",
       "        text-align: right;\n",
       "    }\n",
       "</style>\n",
       "<table border=\"1\" class=\"dataframe\">\n",
       "  <thead>\n",
       "    <tr style=\"text-align: right;\">\n",
       "      <th></th>\n",
       "      <th>Age</th>\n",
       "      <th>Gender</th>\n",
       "      <th>Internet_Access_at_Home</th>\n",
       "      <th>Family_Income_Level</th>\n",
       "      <th>Parent_Education_Level</th>\n",
       "      <th>sim_score</th>\n",
       "    </tr>\n",
       "  </thead>\n",
       "  <tbody>\n",
       "    <tr>\n",
       "      <th>0</th>\n",
       "      <td>6</td>\n",
       "      <td>1</td>\n",
       "      <td>1</td>\n",
       "      <td>2</td>\n",
       "      <td>Bachelor's</td>\n",
       "      <td>10</td>\n",
       "    </tr>\n",
       "    <tr>\n",
       "      <th>1</th>\n",
       "      <td>6</td>\n",
       "      <td>1</td>\n",
       "      <td>1</td>\n",
       "      <td>2</td>\n",
       "      <td>High School</td>\n",
       "      <td>10</td>\n",
       "    </tr>\n",
       "    <tr>\n",
       "      <th>2</th>\n",
       "      <td>6</td>\n",
       "      <td>1</td>\n",
       "      <td>1</td>\n",
       "      <td>2</td>\n",
       "      <td>High School</td>\n",
       "      <td>10</td>\n",
       "    </tr>\n",
       "    <tr>\n",
       "      <th>3</th>\n",
       "      <td>6</td>\n",
       "      <td>1</td>\n",
       "      <td>1</td>\n",
       "      <td>2</td>\n",
       "      <td>Master's</td>\n",
       "      <td>10</td>\n",
       "    </tr>\n",
       "    <tr>\n",
       "      <th>4</th>\n",
       "      <td>6</td>\n",
       "      <td>1</td>\n",
       "      <td>1</td>\n",
       "      <td>2</td>\n",
       "      <td>PhD</td>\n",
       "      <td>10</td>\n",
       "    </tr>\n",
       "  </tbody>\n",
       "</table>\n",
       "</div>"
      ],
      "text/plain": [
       "   Age  Gender  Internet_Access_at_Home  Family_Income_Level  \\\n",
       "0    6       1                        1                    2   \n",
       "1    6       1                        1                    2   \n",
       "2    6       1                        1                    2   \n",
       "3    6       1                        1                    2   \n",
       "4    6       1                        1                    2   \n",
       "\n",
       "  Parent_Education_Level  sim_score  \n",
       "0             Bachelor's         10  \n",
       "1            High School         10  \n",
       "2            High School         10  \n",
       "3               Master's         10  \n",
       "4                    PhD         10  "
      ]
     },
     "metadata": {},
     "output_type": "display_data"
    },
    {
     "data": {
      "text/plain": [
       "'High School'"
      ]
     },
     "execution_count": 46,
     "metadata": {},
     "output_type": "execute_result"
    }
   ],
   "source": [
    "# Testing on one row\n",
    "\n",
    "i = 4997\n",
    "\n",
    "display(education_data_copy.iloc[i])\n",
    "print(\"\\n\\n\")\n",
    "\n",
    "get_knn_parent_educat(i,5,education_data_copy,True)"
   ]
  },
  {
   "cell_type": "markdown",
   "id": "958f51c6-f7f7-4c96-aa93-80e09f998c60",
   "metadata": {},
   "source": [
    "## To evaluate how my algorithm is doing I am going to do the following. I am going to take all entries that already have a value in this catagory, loop through each entry, and for each entry I will pretend as though it were NA and get a accuracy count essentially of how many times my algorithm guess the correct education level."
   ]
  },
  {
   "cell_type": "code",
   "execution_count": 51,
   "id": "290b32a6-6046-4c5d-b6a9-bac2c62b43a7",
   "metadata": {},
   "outputs": [
    {
     "data": {
      "application/vnd.jupyter.widget-view+json": {
       "model_id": "ac61fa8c5c664bfeb934f9a63d503ccd",
       "version_major": 2,
       "version_minor": 0
      },
      "text/plain": [
       "  0%|          | 0/50 [00:00<?, ?it/s]"
      ]
     },
     "metadata": {},
     "output_type": "display_data"
    },
    {
     "data": {
      "application/vnd.jupyter.widget-view+json": {
       "model_id": "226c85ee2984462a9a4180564c501449",
       "version_major": 2,
       "version_minor": 0
      },
      "text/plain": [
       "  0%|          | 0/500 [00:00<?, ?it/s]"
      ]
     },
     "metadata": {},
     "output_type": "display_data"
    },
    {
     "data": {
      "application/vnd.jupyter.widget-view+json": {
       "model_id": "c670ab900d834d8bbb77448fe7e8eb52",
       "version_major": 2,
       "version_minor": 0
      },
      "text/plain": [
       "  0%|          | 0/500 [00:00<?, ?it/s]"
      ]
     },
     "metadata": {},
     "output_type": "display_data"
    },
    {
     "data": {
      "application/vnd.jupyter.widget-view+json": {
       "model_id": "2cbc411821cc4e3d8822276bc57628e0",
       "version_major": 2,
       "version_minor": 0
      },
      "text/plain": [
       "  0%|          | 0/500 [00:00<?, ?it/s]"
      ]
     },
     "metadata": {},
     "output_type": "display_data"
    },
    {
     "data": {
      "application/vnd.jupyter.widget-view+json": {
       "model_id": "5f2efbb459b746989f5bf4dab7fff318",
       "version_major": 2,
       "version_minor": 0
      },
      "text/plain": [
       "  0%|          | 0/500 [00:00<?, ?it/s]"
      ]
     },
     "metadata": {},
     "output_type": "display_data"
    },
    {
     "data": {
      "application/vnd.jupyter.widget-view+json": {
       "model_id": "c4a517eb439c4453bee279237dc723b4",
       "version_major": 2,
       "version_minor": 0
      },
      "text/plain": [
       "  0%|          | 0/500 [00:00<?, ?it/s]"
      ]
     },
     "metadata": {},
     "output_type": "display_data"
    },
    {
     "data": {
      "application/vnd.jupyter.widget-view+json": {
       "model_id": "74fe74d8d165429abb52ca60853be952",
       "version_major": 2,
       "version_minor": 0
      },
      "text/plain": [
       "  0%|          | 0/500 [00:00<?, ?it/s]"
      ]
     },
     "metadata": {},
     "output_type": "display_data"
    },
    {
     "data": {
      "application/vnd.jupyter.widget-view+json": {
       "model_id": "ed08a76635454e43b980ce0c80e6dce2",
       "version_major": 2,
       "version_minor": 0
      },
      "text/plain": [
       "  0%|          | 0/500 [00:00<?, ?it/s]"
      ]
     },
     "metadata": {},
     "output_type": "display_data"
    },
    {
     "data": {
      "application/vnd.jupyter.widget-view+json": {
       "model_id": "90ea90e3050b4f3dad9357c83282bafe",
       "version_major": 2,
       "version_minor": 0
      },
      "text/plain": [
       "  0%|          | 0/500 [00:00<?, ?it/s]"
      ]
     },
     "metadata": {},
     "output_type": "display_data"
    },
    {
     "data": {
      "application/vnd.jupyter.widget-view+json": {
       "model_id": "cc1cb50520c74830a54b5a4465a3e801",
       "version_major": 2,
       "version_minor": 0
      },
      "text/plain": [
       "  0%|          | 0/500 [00:00<?, ?it/s]"
      ]
     },
     "metadata": {},
     "output_type": "display_data"
    },
    {
     "data": {
      "application/vnd.jupyter.widget-view+json": {
       "model_id": "3709748cc8d7430b8c8e82cdb1a325dd",
       "version_major": 2,
       "version_minor": 0
      },
      "text/plain": [
       "  0%|          | 0/500 [00:00<?, ?it/s]"
      ]
     },
     "metadata": {},
     "output_type": "display_data"
    },
    {
     "data": {
      "application/vnd.jupyter.widget-view+json": {
       "model_id": "5ba9e61a55a544658c8c1e3cc2c6dbb2",
       "version_major": 2,
       "version_minor": 0
      },
      "text/plain": [
       "  0%|          | 0/500 [00:00<?, ?it/s]"
      ]
     },
     "metadata": {},
     "output_type": "display_data"
    },
    {
     "data": {
      "application/vnd.jupyter.widget-view+json": {
       "model_id": "af4e0f3f2aef40e4b5349f7e910c9854",
       "version_major": 2,
       "version_minor": 0
      },
      "text/plain": [
       "  0%|          | 0/500 [00:00<?, ?it/s]"
      ]
     },
     "metadata": {},
     "output_type": "display_data"
    },
    {
     "data": {
      "application/vnd.jupyter.widget-view+json": {
       "model_id": "16b7bed3d53247949b502316b1b1dd21",
       "version_major": 2,
       "version_minor": 0
      },
      "text/plain": [
       "  0%|          | 0/500 [00:00<?, ?it/s]"
      ]
     },
     "metadata": {},
     "output_type": "display_data"
    },
    {
     "data": {
      "application/vnd.jupyter.widget-view+json": {
       "model_id": "05e3567899ca45d495ec838bd6a0ecbe",
       "version_major": 2,
       "version_minor": 0
      },
      "text/plain": [
       "  0%|          | 0/500 [00:00<?, ?it/s]"
      ]
     },
     "metadata": {},
     "output_type": "display_data"
    },
    {
     "data": {
      "application/vnd.jupyter.widget-view+json": {
       "model_id": "3fdaacf6256440b2a7b66a5845d986fe",
       "version_major": 2,
       "version_minor": 0
      },
      "text/plain": [
       "  0%|          | 0/500 [00:00<?, ?it/s]"
      ]
     },
     "metadata": {},
     "output_type": "display_data"
    },
    {
     "data": {
      "application/vnd.jupyter.widget-view+json": {
       "model_id": "5fe408102af341dbab6960ab8d3412c6",
       "version_major": 2,
       "version_minor": 0
      },
      "text/plain": [
       "  0%|          | 0/500 [00:00<?, ?it/s]"
      ]
     },
     "metadata": {},
     "output_type": "display_data"
    },
    {
     "data": {
      "application/vnd.jupyter.widget-view+json": {
       "model_id": "00f33b33bd3b4796a284bd08c7c91ae5",
       "version_major": 2,
       "version_minor": 0
      },
      "text/plain": [
       "  0%|          | 0/500 [00:00<?, ?it/s]"
      ]
     },
     "metadata": {},
     "output_type": "display_data"
    },
    {
     "data": {
      "application/vnd.jupyter.widget-view+json": {
       "model_id": "8014d36fdf3144f8ba051573efbed73c",
       "version_major": 2,
       "version_minor": 0
      },
      "text/plain": [
       "  0%|          | 0/500 [00:00<?, ?it/s]"
      ]
     },
     "metadata": {},
     "output_type": "display_data"
    },
    {
     "data": {
      "application/vnd.jupyter.widget-view+json": {
       "model_id": "684b50c100454c23bb5fea1253b9cbae",
       "version_major": 2,
       "version_minor": 0
      },
      "text/plain": [
       "  0%|          | 0/500 [00:00<?, ?it/s]"
      ]
     },
     "metadata": {},
     "output_type": "display_data"
    },
    {
     "data": {
      "application/vnd.jupyter.widget-view+json": {
       "model_id": "96d8fdfb96234b35bca0e9a59c16436c",
       "version_major": 2,
       "version_minor": 0
      },
      "text/plain": [
       "  0%|          | 0/500 [00:00<?, ?it/s]"
      ]
     },
     "metadata": {},
     "output_type": "display_data"
    },
    {
     "data": {
      "application/vnd.jupyter.widget-view+json": {
       "model_id": "bdef8cf593224917af17daf239891042",
       "version_major": 2,
       "version_minor": 0
      },
      "text/plain": [
       "  0%|          | 0/500 [00:00<?, ?it/s]"
      ]
     },
     "metadata": {},
     "output_type": "display_data"
    },
    {
     "data": {
      "application/vnd.jupyter.widget-view+json": {
       "model_id": "a0ad910d3c224d1d99c832925ef3d8ed",
       "version_major": 2,
       "version_minor": 0
      },
      "text/plain": [
       "  0%|          | 0/500 [00:00<?, ?it/s]"
      ]
     },
     "metadata": {},
     "output_type": "display_data"
    },
    {
     "data": {
      "application/vnd.jupyter.widget-view+json": {
       "model_id": "f3bb9025213248788c74f7baa3f88446",
       "version_major": 2,
       "version_minor": 0
      },
      "text/plain": [
       "  0%|          | 0/500 [00:00<?, ?it/s]"
      ]
     },
     "metadata": {},
     "output_type": "display_data"
    },
    {
     "data": {
      "application/vnd.jupyter.widget-view+json": {
       "model_id": "690ec355396e496e8c88a449ece5a20b",
       "version_major": 2,
       "version_minor": 0
      },
      "text/plain": [
       "  0%|          | 0/500 [00:00<?, ?it/s]"
      ]
     },
     "metadata": {},
     "output_type": "display_data"
    },
    {
     "data": {
      "application/vnd.jupyter.widget-view+json": {
       "model_id": "84d6fdaebff94b96bc9e9c5e06a956bb",
       "version_major": 2,
       "version_minor": 0
      },
      "text/plain": [
       "  0%|          | 0/500 [00:00<?, ?it/s]"
      ]
     },
     "metadata": {},
     "output_type": "display_data"
    },
    {
     "data": {
      "application/vnd.jupyter.widget-view+json": {
       "model_id": "56c26dd925704de4bacd4250587aee8a",
       "version_major": 2,
       "version_minor": 0
      },
      "text/plain": [
       "  0%|          | 0/500 [00:00<?, ?it/s]"
      ]
     },
     "metadata": {},
     "output_type": "display_data"
    },
    {
     "data": {
      "application/vnd.jupyter.widget-view+json": {
       "model_id": "06d95e8e3e4d436eb8c418e899cd4254",
       "version_major": 2,
       "version_minor": 0
      },
      "text/plain": [
       "  0%|          | 0/500 [00:00<?, ?it/s]"
      ]
     },
     "metadata": {},
     "output_type": "display_data"
    },
    {
     "data": {
      "application/vnd.jupyter.widget-view+json": {
       "model_id": "58409b451a644133956c58fe5aa51d04",
       "version_major": 2,
       "version_minor": 0
      },
      "text/plain": [
       "  0%|          | 0/500 [00:00<?, ?it/s]"
      ]
     },
     "metadata": {},
     "output_type": "display_data"
    },
    {
     "data": {
      "application/vnd.jupyter.widget-view+json": {
       "model_id": "ac17d771a4534e2999cf3c20ce3b2d61",
       "version_major": 2,
       "version_minor": 0
      },
      "text/plain": [
       "  0%|          | 0/500 [00:00<?, ?it/s]"
      ]
     },
     "metadata": {},
     "output_type": "display_data"
    },
    {
     "data": {
      "application/vnd.jupyter.widget-view+json": {
       "model_id": "9d94ae01a9f0436785a7210699053fe8",
       "version_major": 2,
       "version_minor": 0
      },
      "text/plain": [
       "  0%|          | 0/500 [00:00<?, ?it/s]"
      ]
     },
     "metadata": {},
     "output_type": "display_data"
    },
    {
     "data": {
      "application/vnd.jupyter.widget-view+json": {
       "model_id": "0eb0f693a56b4493b4e60cad786bf2b9",
       "version_major": 2,
       "version_minor": 0
      },
      "text/plain": [
       "  0%|          | 0/500 [00:00<?, ?it/s]"
      ]
     },
     "metadata": {},
     "output_type": "display_data"
    },
    {
     "data": {
      "application/vnd.jupyter.widget-view+json": {
       "model_id": "7052621ee4d2488c9c933cf712f4ac75",
       "version_major": 2,
       "version_minor": 0
      },
      "text/plain": [
       "  0%|          | 0/500 [00:00<?, ?it/s]"
      ]
     },
     "metadata": {},
     "output_type": "display_data"
    },
    {
     "data": {
      "application/vnd.jupyter.widget-view+json": {
       "model_id": "25e29b2e783741a9911ce36777b02efe",
       "version_major": 2,
       "version_minor": 0
      },
      "text/plain": [
       "  0%|          | 0/500 [00:00<?, ?it/s]"
      ]
     },
     "metadata": {},
     "output_type": "display_data"
    },
    {
     "data": {
      "application/vnd.jupyter.widget-view+json": {
       "model_id": "c388193f2fe5484c90f762fe41bd3f64",
       "version_major": 2,
       "version_minor": 0
      },
      "text/plain": [
       "  0%|          | 0/500 [00:00<?, ?it/s]"
      ]
     },
     "metadata": {},
     "output_type": "display_data"
    },
    {
     "data": {
      "application/vnd.jupyter.widget-view+json": {
       "model_id": "e4c75652daa64e02967bb48a82d7bf79",
       "version_major": 2,
       "version_minor": 0
      },
      "text/plain": [
       "  0%|          | 0/500 [00:00<?, ?it/s]"
      ]
     },
     "metadata": {},
     "output_type": "display_data"
    },
    {
     "data": {
      "application/vnd.jupyter.widget-view+json": {
       "model_id": "8eb9a34447ed4eabbf9ec76a495b2ab7",
       "version_major": 2,
       "version_minor": 0
      },
      "text/plain": [
       "  0%|          | 0/500 [00:00<?, ?it/s]"
      ]
     },
     "metadata": {},
     "output_type": "display_data"
    },
    {
     "data": {
      "application/vnd.jupyter.widget-view+json": {
       "model_id": "0e71c26b7cae4d74b52791ffc67264c2",
       "version_major": 2,
       "version_minor": 0
      },
      "text/plain": [
       "  0%|          | 0/500 [00:00<?, ?it/s]"
      ]
     },
     "metadata": {},
     "output_type": "display_data"
    },
    {
     "data": {
      "application/vnd.jupyter.widget-view+json": {
       "model_id": "5a6360caf1db4e4bac5e32ea6d01f469",
       "version_major": 2,
       "version_minor": 0
      },
      "text/plain": [
       "  0%|          | 0/500 [00:00<?, ?it/s]"
      ]
     },
     "metadata": {},
     "output_type": "display_data"
    },
    {
     "data": {
      "application/vnd.jupyter.widget-view+json": {
       "model_id": "52174c2e579f444c8e8913f84245208f",
       "version_major": 2,
       "version_minor": 0
      },
      "text/plain": [
       "  0%|          | 0/500 [00:00<?, ?it/s]"
      ]
     },
     "metadata": {},
     "output_type": "display_data"
    },
    {
     "data": {
      "application/vnd.jupyter.widget-view+json": {
       "model_id": "bf4821f684284a59ab510dff0028d846",
       "version_major": 2,
       "version_minor": 0
      },
      "text/plain": [
       "  0%|          | 0/500 [00:00<?, ?it/s]"
      ]
     },
     "metadata": {},
     "output_type": "display_data"
    },
    {
     "data": {
      "application/vnd.jupyter.widget-view+json": {
       "model_id": "01b71945c74444e9b92dd07606de6c2e",
       "version_major": 2,
       "version_minor": 0
      },
      "text/plain": [
       "  0%|          | 0/500 [00:00<?, ?it/s]"
      ]
     },
     "metadata": {},
     "output_type": "display_data"
    },
    {
     "data": {
      "application/vnd.jupyter.widget-view+json": {
       "model_id": "8fbfbc051c1b4bfaaf10bb21ef46a5dc",
       "version_major": 2,
       "version_minor": 0
      },
      "text/plain": [
       "  0%|          | 0/500 [00:00<?, ?it/s]"
      ]
     },
     "metadata": {},
     "output_type": "display_data"
    },
    {
     "data": {
      "application/vnd.jupyter.widget-view+json": {
       "model_id": "b814457619934455bddcda2b9c714d37",
       "version_major": 2,
       "version_minor": 0
      },
      "text/plain": [
       "  0%|          | 0/500 [00:00<?, ?it/s]"
      ]
     },
     "metadata": {},
     "output_type": "display_data"
    },
    {
     "data": {
      "application/vnd.jupyter.widget-view+json": {
       "model_id": "14368216e50446339958cc1297b8e9bd",
       "version_major": 2,
       "version_minor": 0
      },
      "text/plain": [
       "  0%|          | 0/500 [00:00<?, ?it/s]"
      ]
     },
     "metadata": {},
     "output_type": "display_data"
    },
    {
     "data": {
      "application/vnd.jupyter.widget-view+json": {
       "model_id": "edefd871f6c04b5485663e26917e5efc",
       "version_major": 2,
       "version_minor": 0
      },
      "text/plain": [
       "  0%|          | 0/500 [00:00<?, ?it/s]"
      ]
     },
     "metadata": {},
     "output_type": "display_data"
    },
    {
     "data": {
      "application/vnd.jupyter.widget-view+json": {
       "model_id": "305a34be24b64b898ba0a8fe99380154",
       "version_major": 2,
       "version_minor": 0
      },
      "text/plain": [
       "  0%|          | 0/500 [00:00<?, ?it/s]"
      ]
     },
     "metadata": {},
     "output_type": "display_data"
    },
    {
     "data": {
      "application/vnd.jupyter.widget-view+json": {
       "model_id": "6c4cd78ceca4409fbe9857db39c24579",
       "version_major": 2,
       "version_minor": 0
      },
      "text/plain": [
       "  0%|          | 0/500 [00:00<?, ?it/s]"
      ]
     },
     "metadata": {},
     "output_type": "display_data"
    },
    {
     "data": {
      "application/vnd.jupyter.widget-view+json": {
       "model_id": "66cde0eafe4741dd96c6644b7085b20e",
       "version_major": 2,
       "version_minor": 0
      },
      "text/plain": [
       "  0%|          | 0/500 [00:00<?, ?it/s]"
      ]
     },
     "metadata": {},
     "output_type": "display_data"
    },
    {
     "data": {
      "application/vnd.jupyter.widget-view+json": {
       "model_id": "ebf6887729be45f09ccea3c9403f21a9",
       "version_major": 2,
       "version_minor": 0
      },
      "text/plain": [
       "  0%|          | 0/500 [00:00<?, ?it/s]"
      ]
     },
     "metadata": {},
     "output_type": "display_data"
    },
    {
     "data": {
      "application/vnd.jupyter.widget-view+json": {
       "model_id": "50a086e2d03f42db92daee05072146c9",
       "version_major": 2,
       "version_minor": 0
      },
      "text/plain": [
       "  0%|          | 0/500 [00:00<?, ?it/s]"
      ]
     },
     "metadata": {},
     "output_type": "display_data"
    },
    {
     "name": "stdout",
     "output_type": "stream",
     "text": [
      "The best k value was 20 with a accuracy of 26.8\n"
     ]
    },
    {
     "data": {
      "image/png": "[encoded data removed]",
      "text/plain": [
       "<Figure size 640x480 with 1 Axes>"
      ]
     },
     "metadata": {},
     "output_type": "display_data"
    }
   ],
   "source": [
    "# First intialize counters, get a replicate frame that has no na's.\n",
    "educ_data_no_na = education_data[~education_data['Parent_Education_Level'].isna()].copy()\n",
    "\n",
    "# Also record the best k value. For now I am just gonna start with k between 1 and say 50.\n",
    "\n",
    "best_k = 0\n",
    "best_acc = 0\n",
    "\n",
    "min_k = 1\n",
    "max_k = 50\n",
    "\n",
    "num_no_na = educ_data_no_na.shape[0]\n",
    "\n",
    "num_correct_curr = 0\n",
    "\n",
    "k_val_accs = []\n",
    "\n",
    "base_seed = 122\n",
    "batch_size = 500\n",
    "\n",
    "for k in tqdm(range(min_k,max_k+1)):\n",
    "    num_correct_curr = 0\n",
    "\n",
    "    no_na_sample = educ_data_no_na.sample(n=batch_size,random_state=(base_seed+1)).reset_index(drop=True)\n",
    "    \n",
    "    for ind,row in tqdm(no_na_sample.iterrows(),total=batch_size,leave=False):\n",
    "        # first just cause this was taking way to long intially I am going to just test\n",
    "        # each k on a subset of the original frame.\n",
    "        \n",
    "        # First remeber what the true value for this row is.\n",
    "        gold_parent_educ = no_na_sample.at[ind,'Parent_Education_Level']\n",
    "\n",
    "        # Set current parent education to NA to use KNN to predict it.\n",
    "        educ_data_no_na.loc[ind,'Parent_Education_Level'] = np.nan\n",
    "\n",
    "        # Now run KNN alg.\n",
    "        pred_parent_educ = get_knn_parent_educat(ind,k,no_na_sample,False)\n",
    "\n",
    "        # Now immedietly put back the old non na value.\n",
    "        no_na_sample.loc[ind,'Parent_Education_Level'] = gold_parent_educ\n",
    "\n",
    "        # Now check if the prediction was correct.\n",
    "        if(gold_parent_educ==pred_parent_educ):\n",
    "            num_correct_curr += 1\n",
    "\n",
    "    # Now calculate accuracy percentage for the current k value.\n",
    "    curr_acc = (num_correct_curr/batch_size)*100\n",
    "    # Append this round's accuracy to the current list of accuracy vals.\n",
    "    k_val_accs.append(curr_acc)\n",
    "\n",
    "    # Now check if the current k is the most accurate.\n",
    "    if curr_acc >= best_acc:\n",
    "        best_k = k\n",
    "        best_acc = curr_acc\n",
    "\n",
    "# Now make a quick little plot to show how the accuracy changed wit the different k values\n",
    "import matplotlib.pyplot as plt\n",
    "\n",
    "print(f\"The best k value was {best_k} with a accuracy of {best_acc}\")\n",
    "\n",
    "k_vals = np.arange(min_k,(max_k+1))\n",
    "plt.plot(k_vals,k_val_accs)\n",
    "plt.xlabel(\"k vals\")\n",
    "plt.ylabel(\"accuracy percentage for k val\")\n",
    "plt.show()"
   ]
  },
  {
   "cell_type": "markdown",
   "id": "fc1c9321-9f80-4c08-8010-13d2be12d4ec",
   "metadata": {},
   "source": [
    "## With the original performance of my algorithm being an abismal 26 percent accuracy, which is basically as good as just guessing or worse, I am going to look at the correlation between the family education column and all the other features and see if I am in fact using the strongest indicators of similarity."
   ]
  },
  {
   "cell_type": "code",
   "execution_count": 34,
   "id": "e4773b73-945f-4457-be64-486f450f14d1",
   "metadata": {},
   "outputs": [
    {
     "name": "stdout",
     "output_type": "stream",
     "text": [
      "The row correlation scores are as follows: \n",
      "{'Gender': 0.003161367162065458, 'Age': -0.030079252414818777, 'Department': 0.019155267742812492, 'Attendance (%)': 0.005528682840108309, 'Midterm_Score': 0.015417298539233905, 'Final_Score': -0.026805298603143454, 'Assignments_Avg': 0.004910222443516004, 'Quizzes_Avg': -0.028926301448270218, 'Participation_Score': 0.031040099490232106, 'Projects_Score': -0.012720015414707252, 'Total_Score': -0.0159663817992082, 'Grade': 0.016701602921356546, 'Study_Hours_per_Week': -0.007788685985384251, 'Extracurricular_Activities': 0.0007389791207303169, 'Internet_Access_at_Home': -0.029102137342631864, 'Family_Income_Level': 0.004590666482291438, 'Stress_Level (1-10)': -0.009716429781570668, 'Sleep_Hours_per_Night': -0.013861237581648526}\n",
      "\n",
      "\n",
      "\n",
      "('Participation_Score', 0.031040099490232106)\n",
      "('Age', 0.030079252414818777)\n",
      "('Internet_Access_at_Home', 0.029102137342631864)\n",
      "('Quizzes_Avg', 0.028926301448270218)\n",
      "('Final_Score', 0.026805298603143454)\n",
      "('Department', 0.019155267742812492)\n",
      "('Grade', 0.016701602921356546)\n",
      "('Total_Score', 0.0159663817992082)\n",
      "('Midterm_Score', 0.015417298539233905)\n",
      "('Sleep_Hours_per_Night', 0.013861237581648526)\n",
      "('Projects_Score', 0.012720015414707252)\n",
      "('Stress_Level (1-10)', 0.009716429781570668)\n",
      "('Study_Hours_per_Week', 0.007788685985384251)\n",
      "('Attendance (%)', 0.005528682840108309)\n",
      "('Assignments_Avg', 0.004910222443516004)\n",
      "('Family_Income_Level', 0.004590666482291438)\n",
      "('Gender', 0.003161367162065458)\n",
      "('Extracurricular_Activities', 0.0007389791207303169)\n"
     ]
    }
   ],
   "source": [
    "# First I am going to need to just do a quick and dirty conversion of all non-numeric columns to numeric\n",
    "# ones.\n",
    "\n",
    "educ_all_numeric = education_data.copy()\n",
    "\n",
    "# I'm just doing this because I don't want to get false correlations because of NA's.\n",
    "educ_all_numeric = educ_all_numeric.dropna()\n",
    "\n",
    "for col in ['Gender','Department','Grade','Extracurricular_Activities', 'Internet_Access_at_Home',\n",
    "       'Parent_Education_Level', 'Family_Income_Level']:\n",
    "    educ_all_numeric[col] = educ_all_numeric[col].astype(\"category\").cat.codes\n",
    "\n",
    "educ_all_numeric.head()\n",
    "\n",
    "cols = np.array(educ_all_numeric.columns).tolist()\n",
    "cols.remove('Parent_Education_Level')\n",
    "\n",
    "corr_levels = {}\n",
    "corr_levs_non_abs = {}\n",
    "\n",
    "# Ok so now everything is numeric and I can compare its correlation with the 'Parent_Educational_Level'\n",
    "for col in cols:\n",
    "    corr_curr = educ_all_numeric[col].corr(educ_all_numeric['Parent_Education_Level'])\n",
    "\n",
    "    corr_levs_non_abs[col] = corr_curr\n",
    "    \n",
    "    corr_levels[col] = np.abs(corr_curr)\n",
    "\n",
    "\n",
    "print(f\"The row correlation scores are as follows: \\n{corr_levs_non_abs}\\n\\n\\n\")\n",
    "\n",
    "sorted_cors = sorted(corr_levels.items(),key=lambda x: x[1], reverse=True)\n",
    "for corr in sorted_cors:\n",
    "    print(corr)"
   ]
  },
  {
   "cell_type": "markdown",
   "id": "0cde3fa3-de05-4aa8-8831-2241bed43de8",
   "metadata": {},
   "source": [
    "## Encoding Gender & Extra cericulars & Internet at home!"
   ]
  },
  {
   "cell_type": "code",
   "execution_count": 6,
   "id": "65b26f3f-59c2-4a58-a024-6f9d7bda3189",
   "metadata": {},
   "outputs": [
    {
     "data": {
      "text/html": [
       "<div>\n",
       "<style scoped>\n",
       "    .dataframe tbody tr th:only-of-type {\n",
       "        vertical-align: middle;\n",
       "    }\n",
       "\n",
       "    .dataframe tbody tr th {\n",
       "        vertical-align: top;\n",
       "    }\n",
       "\n",
       "    .dataframe thead th {\n",
       "        text-align: right;\n",
       "    }\n",
       "</style>\n",
       "<table border=\"1\" class=\"dataframe\">\n",
       "  <thead>\n",
       "    <tr style=\"text-align: right;\">\n",
       "      <th></th>\n",
       "      <th>Gender</th>\n",
       "      <th>Age</th>\n",
       "      <th>Department</th>\n",
       "      <th>Attendance (%)</th>\n",
       "      <th>Midterm_Score</th>\n",
       "      <th>Final_Score</th>\n",
       "      <th>Assignments_Avg</th>\n",
       "      <th>Quizzes_Avg</th>\n",
       "      <th>Participation_Score</th>\n",
       "      <th>Projects_Score</th>\n",
       "      <th>Total_Score</th>\n",
       "      <th>Grade</th>\n",
       "      <th>Study_Hours_per_Week</th>\n",
       "      <th>Extracurricular_Activities</th>\n",
       "      <th>Internet_Access_at_Home</th>\n",
       "      <th>Parent_Education_Level</th>\n",
       "      <th>Family_Income_Level</th>\n",
       "      <th>Stress_Level (1-10)</th>\n",
       "      <th>Sleep_Hours_per_Night</th>\n",
       "    </tr>\n",
       "  </thead>\n",
       "  <tbody>\n",
       "    <tr>\n",
       "      <th>0</th>\n",
       "      <td>0</td>\n",
       "      <td>22</td>\n",
       "      <td>Mathematics</td>\n",
       "      <td>97.36</td>\n",
       "      <td>40.61</td>\n",
       "      <td>59.61</td>\n",
       "      <td>73.69</td>\n",
       "      <td>53.17</td>\n",
       "      <td>73.4</td>\n",
       "      <td>62.84</td>\n",
       "      <td>59.8865</td>\n",
       "      <td>F</td>\n",
       "      <td>10.3</td>\n",
       "      <td>1</td>\n",
       "      <td>0</td>\n",
       "      <td>Master's</td>\n",
       "      <td>Medium</td>\n",
       "      <td>1</td>\n",
       "      <td>5.9</td>\n",
       "    </tr>\n",
       "    <tr>\n",
       "      <th>1</th>\n",
       "      <td>1</td>\n",
       "      <td>18</td>\n",
       "      <td>Business</td>\n",
       "      <td>97.71</td>\n",
       "      <td>57.27</td>\n",
       "      <td>74.00</td>\n",
       "      <td>74.23</td>\n",
       "      <td>98.23</td>\n",
       "      <td>88.0</td>\n",
       "      <td>98.23</td>\n",
       "      <td>81.9170</td>\n",
       "      <td>B</td>\n",
       "      <td>27.1</td>\n",
       "      <td>0</td>\n",
       "      <td>0</td>\n",
       "      <td>High School</td>\n",
       "      <td>Low</td>\n",
       "      <td>4</td>\n",
       "      <td>4.3</td>\n",
       "    </tr>\n",
       "    <tr>\n",
       "      <th>2</th>\n",
       "      <td>1</td>\n",
       "      <td>24</td>\n",
       "      <td>Engineering</td>\n",
       "      <td>99.52</td>\n",
       "      <td>41.84</td>\n",
       "      <td>63.85</td>\n",
       "      <td>85.85</td>\n",
       "      <td>50.00</td>\n",
       "      <td>4.7</td>\n",
       "      <td>91.22</td>\n",
       "      <td>67.7170</td>\n",
       "      <td>D</td>\n",
       "      <td>12.4</td>\n",
       "      <td>1</td>\n",
       "      <td>0</td>\n",
       "      <td>High School</td>\n",
       "      <td>Low</td>\n",
       "      <td>9</td>\n",
       "      <td>6.1</td>\n",
       "    </tr>\n",
       "    <tr>\n",
       "      <th>3</th>\n",
       "      <td>0</td>\n",
       "      <td>24</td>\n",
       "      <td>Engineering</td>\n",
       "      <td>90.38</td>\n",
       "      <td>45.65</td>\n",
       "      <td>44.44</td>\n",
       "      <td>68.10</td>\n",
       "      <td>66.27</td>\n",
       "      <td>4.2</td>\n",
       "      <td>55.48</td>\n",
       "      <td>51.6535</td>\n",
       "      <td>F</td>\n",
       "      <td>25.5</td>\n",
       "      <td>0</td>\n",
       "      <td>1</td>\n",
       "      <td>High School</td>\n",
       "      <td>Low</td>\n",
       "      <td>8</td>\n",
       "      <td>4.9</td>\n",
       "    </tr>\n",
       "    <tr>\n",
       "      <th>4</th>\n",
       "      <td>0</td>\n",
       "      <td>23</td>\n",
       "      <td>CS</td>\n",
       "      <td>59.41</td>\n",
       "      <td>53.13</td>\n",
       "      <td>61.77</td>\n",
       "      <td>67.66</td>\n",
       "      <td>83.98</td>\n",
       "      <td>64.3</td>\n",
       "      <td>87.43</td>\n",
       "      <td>71.4030</td>\n",
       "      <td>C</td>\n",
       "      <td>13.3</td>\n",
       "      <td>1</td>\n",
       "      <td>0</td>\n",
       "      <td>Master's</td>\n",
       "      <td>Medium</td>\n",
       "      <td>6</td>\n",
       "      <td>4.5</td>\n",
       "    </tr>\n",
       "  </tbody>\n",
       "</table>\n",
       "</div>"
      ],
      "text/plain": [
       "   Gender  Age   Department  Attendance (%)  Midterm_Score  Final_Score  \\\n",
       "0       0   22  Mathematics           97.36          40.61        59.61   \n",
       "1       1   18     Business           97.71          57.27        74.00   \n",
       "2       1   24  Engineering           99.52          41.84        63.85   \n",
       "3       0   24  Engineering           90.38          45.65        44.44   \n",
       "4       0   23           CS           59.41          53.13        61.77   \n",
       "\n",
       "   Assignments_Avg  Quizzes_Avg  Participation_Score  Projects_Score  \\\n",
       "0            73.69        53.17                 73.4           62.84   \n",
       "1            74.23        98.23                 88.0           98.23   \n",
       "2            85.85        50.00                  4.7           91.22   \n",
       "3            68.10        66.27                  4.2           55.48   \n",
       "4            67.66        83.98                 64.3           87.43   \n",
       "\n",
       "   Total_Score Grade  Study_Hours_per_Week  Extracurricular_Activities  \\\n",
       "0      59.8865     F                  10.3                           1   \n",
       "1      81.9170     B                  27.1                           0   \n",
       "2      67.7170     D                  12.4                           1   \n",
       "3      51.6535     F                  25.5                           0   \n",
       "4      71.4030     C                  13.3                           1   \n",
       "\n",
       "   Internet_Access_at_Home Parent_Education_Level Family_Income_Level  \\\n",
       "0                        0               Master's              Medium   \n",
       "1                        0            High School                 Low   \n",
       "2                        0            High School                 Low   \n",
       "3                        1            High School                 Low   \n",
       "4                        0               Master's              Medium   \n",
       "\n",
       "   Stress_Level (1-10)  Sleep_Hours_per_Night  \n",
       "0                    1                    5.9  \n",
       "1                    4                    4.3  \n",
       "2                    9                    6.1  \n",
       "3                    8                    4.9  \n",
       "4                    6                    4.5  "
      ]
     },
     "execution_count": 6,
     "metadata": {},
     "output_type": "execute_result"
    }
   ],
   "source": [
    "education_data['Gender'] = education_data['Gender'].replace({'Male': 1, 'Female': 0}).astype(int)\n",
    "education_data['Internet_Access_at_Home'] = education_data['Internet_Access_at_Home'].replace({'Yes': 1, 'No': 0}).astype(int)\n",
    "education_data['Extracurricular_Activities'] = education_data['Extracurricular_Activities'].replace({'Yes': 1, 'No': 0}).astype(int)\n",
    "education_data.head()"
   ]
  },
  {
   "cell_type": "markdown",
   "id": "22ab8e8c-0e05-4701-a15a-23b0dea79541",
   "metadata": {},
   "source": [
    "## Encoding Family Income!"
   ]
  },
  {
   "cell_type": "code",
   "execution_count": null,
   "id": "f861e530-2f37-487c-b441-b7fcf88c05c1",
   "metadata": {},
   "outputs": [],
   "source": []
  },
  {
   "cell_type": "markdown",
   "id": "b1141d0f-fcd4-4020-bfc2-5601921efd9e",
   "metadata": {},
   "source": [
    "## Encoding Department Info!"
   ]
  },
  {
   "cell_type": "code",
   "execution_count": 9,
   "id": "db26bf1a-5bcb-48ad-93ca-ad098288ce39",
   "metadata": {},
   "outputs": [
    {
     "data": {
      "text/html": [
       "<div>\n",
       "<style scoped>\n",
       "    .dataframe tbody tr th:only-of-type {\n",
       "        vertical-align: middle;\n",
       "    }\n",
       "\n",
       "    .dataframe tbody tr th {\n",
       "        vertical-align: top;\n",
       "    }\n",
       "\n",
       "    .dataframe thead th {\n",
       "        text-align: right;\n",
       "    }\n",
       "</style>\n",
       "<table border=\"1\" class=\"dataframe\">\n",
       "  <thead>\n",
       "    <tr style=\"text-align: right;\">\n",
       "      <th></th>\n",
       "      <th>Gender</th>\n",
       "      <th>Age</th>\n",
       "      <th>Department</th>\n",
       "      <th>department index</th>\n",
       "      <th>Attendance (%)</th>\n",
       "      <th>Midterm_Score</th>\n",
       "      <th>Final_Score</th>\n",
       "      <th>Assignments_Avg</th>\n",
       "      <th>Quizzes_Avg</th>\n",
       "      <th>Participation_Score</th>\n",
       "      <th>Projects_Score</th>\n",
       "      <th>Total_Score</th>\n",
       "      <th>Grade</th>\n",
       "      <th>Study_Hours_per_Week</th>\n",
       "      <th>Extracurricular_Activities</th>\n",
       "      <th>Internet_Access_at_Home</th>\n",
       "      <th>Parent_Education_Level</th>\n",
       "      <th>Family_Income_Level</th>\n",
       "      <th>Stress_Level (1-10)</th>\n",
       "      <th>Sleep_Hours_per_Night</th>\n",
       "    </tr>\n",
       "  </thead>\n",
       "  <tbody>\n",
       "    <tr>\n",
       "      <th>0</th>\n",
       "      <td>Female</td>\n",
       "      <td>22</td>\n",
       "      <td>Mathematics</td>\n",
       "      <td>0</td>\n",
       "      <td>97.36</td>\n",
       "      <td>40.61</td>\n",
       "      <td>59.61</td>\n",
       "      <td>73.69</td>\n",
       "      <td>53.17</td>\n",
       "      <td>73.4</td>\n",
       "      <td>62.84</td>\n",
       "      <td>59.8865</td>\n",
       "      <td>F</td>\n",
       "      <td>10.3</td>\n",
       "      <td>Yes</td>\n",
       "      <td>No</td>\n",
       "      <td>Master's</td>\n",
       "      <td>Medium</td>\n",
       "      <td>1</td>\n",
       "      <td>5.9</td>\n",
       "    </tr>\n",
       "    <tr>\n",
       "      <th>1</th>\n",
       "      <td>Male</td>\n",
       "      <td>18</td>\n",
       "      <td>Business</td>\n",
       "      <td>1</td>\n",
       "      <td>97.71</td>\n",
       "      <td>57.27</td>\n",
       "      <td>74.00</td>\n",
       "      <td>74.23</td>\n",
       "      <td>98.23</td>\n",
       "      <td>88.0</td>\n",
       "      <td>98.23</td>\n",
       "      <td>81.9170</td>\n",
       "      <td>B</td>\n",
       "      <td>27.1</td>\n",
       "      <td>No</td>\n",
       "      <td>No</td>\n",
       "      <td>High School</td>\n",
       "      <td>Low</td>\n",
       "      <td>4</td>\n",
       "      <td>4.3</td>\n",
       "    </tr>\n",
       "    <tr>\n",
       "      <th>2</th>\n",
       "      <td>Male</td>\n",
       "      <td>24</td>\n",
       "      <td>Engineering</td>\n",
       "      <td>2</td>\n",
       "      <td>99.52</td>\n",
       "      <td>41.84</td>\n",
       "      <td>63.85</td>\n",
       "      <td>85.85</td>\n",
       "      <td>50.00</td>\n",
       "      <td>4.7</td>\n",
       "      <td>91.22</td>\n",
       "      <td>67.7170</td>\n",
       "      <td>D</td>\n",
       "      <td>12.4</td>\n",
       "      <td>Yes</td>\n",
       "      <td>No</td>\n",
       "      <td>High School</td>\n",
       "      <td>Low</td>\n",
       "      <td>9</td>\n",
       "      <td>6.1</td>\n",
       "    </tr>\n",
       "    <tr>\n",
       "      <th>3</th>\n",
       "      <td>Female</td>\n",
       "      <td>24</td>\n",
       "      <td>Engineering</td>\n",
       "      <td>2</td>\n",
       "      <td>90.38</td>\n",
       "      <td>45.65</td>\n",
       "      <td>44.44</td>\n",
       "      <td>68.10</td>\n",
       "      <td>66.27</td>\n",
       "      <td>4.2</td>\n",
       "      <td>55.48</td>\n",
       "      <td>51.6535</td>\n",
       "      <td>F</td>\n",
       "      <td>25.5</td>\n",
       "      <td>No</td>\n",
       "      <td>Yes</td>\n",
       "      <td>High School</td>\n",
       "      <td>Low</td>\n",
       "      <td>8</td>\n",
       "      <td>4.9</td>\n",
       "    </tr>\n",
       "    <tr>\n",
       "      <th>4</th>\n",
       "      <td>Female</td>\n",
       "      <td>23</td>\n",
       "      <td>CS</td>\n",
       "      <td>3</td>\n",
       "      <td>59.41</td>\n",
       "      <td>53.13</td>\n",
       "      <td>61.77</td>\n",
       "      <td>67.66</td>\n",
       "      <td>83.98</td>\n",
       "      <td>64.3</td>\n",
       "      <td>87.43</td>\n",
       "      <td>71.4030</td>\n",
       "      <td>C</td>\n",
       "      <td>13.3</td>\n",
       "      <td>Yes</td>\n",
       "      <td>No</td>\n",
       "      <td>Master's</td>\n",
       "      <td>Medium</td>\n",
       "      <td>6</td>\n",
       "      <td>4.5</td>\n",
       "    </tr>\n",
       "    <tr>\n",
       "      <th>...</th>\n",
       "      <td>...</td>\n",
       "      <td>...</td>\n",
       "      <td>...</td>\n",
       "      <td>...</td>\n",
       "      <td>...</td>\n",
       "      <td>...</td>\n",
       "      <td>...</td>\n",
       "      <td>...</td>\n",
       "      <td>...</td>\n",
       "      <td>...</td>\n",
       "      <td>...</td>\n",
       "      <td>...</td>\n",
       "      <td>...</td>\n",
       "      <td>...</td>\n",
       "      <td>...</td>\n",
       "      <td>...</td>\n",
       "      <td>...</td>\n",
       "      <td>...</td>\n",
       "      <td>...</td>\n",
       "      <td>...</td>\n",
       "    </tr>\n",
       "    <tr>\n",
       "      <th>4995</th>\n",
       "      <td>Male</td>\n",
       "      <td>19</td>\n",
       "      <td>CS</td>\n",
       "      <td>3</td>\n",
       "      <td>96.09</td>\n",
       "      <td>45.86</td>\n",
       "      <td>45.63</td>\n",
       "      <td>74.13</td>\n",
       "      <td>81.53</td>\n",
       "      <td>9.8</td>\n",
       "      <td>51.66</td>\n",
       "      <td>53.5470</td>\n",
       "      <td>F</td>\n",
       "      <td>7.8</td>\n",
       "      <td>No</td>\n",
       "      <td>No</td>\n",
       "      <td>Master's</td>\n",
       "      <td>Medium</td>\n",
       "      <td>10</td>\n",
       "      <td>4.5</td>\n",
       "    </tr>\n",
       "    <tr>\n",
       "      <th>4996</th>\n",
       "      <td>Male</td>\n",
       "      <td>19</td>\n",
       "      <td>Mathematics</td>\n",
       "      <td>0</td>\n",
       "      <td>96.30</td>\n",
       "      <td>78.67</td>\n",
       "      <td>47.42</td>\n",
       "      <td>57.89</td>\n",
       "      <td>85.96</td>\n",
       "      <td>47.8</td>\n",
       "      <td>52.33</td>\n",
       "      <td>59.0240</td>\n",
       "      <td>F</td>\n",
       "      <td>24.2</td>\n",
       "      <td>No</td>\n",
       "      <td>Yes</td>\n",
       "      <td>NaN</td>\n",
       "      <td>Medium</td>\n",
       "      <td>4</td>\n",
       "      <td>7.2</td>\n",
       "    </tr>\n",
       "    <tr>\n",
       "      <th>4997</th>\n",
       "      <td>Female</td>\n",
       "      <td>24</td>\n",
       "      <td>CS</td>\n",
       "      <td>3</td>\n",
       "      <td>89.94</td>\n",
       "      <td>50.84</td>\n",
       "      <td>65.83</td>\n",
       "      <td>84.69</td>\n",
       "      <td>82.27</td>\n",
       "      <td>7.5</td>\n",
       "      <td>97.89</td>\n",
       "      <td>74.7560</td>\n",
       "      <td>C</td>\n",
       "      <td>7.6</td>\n",
       "      <td>No</td>\n",
       "      <td>Yes</td>\n",
       "      <td>NaN</td>\n",
       "      <td>High</td>\n",
       "      <td>5</td>\n",
       "      <td>6.6</td>\n",
       "    </tr>\n",
       "    <tr>\n",
       "      <th>4998</th>\n",
       "      <td>Male</td>\n",
       "      <td>23</td>\n",
       "      <td>Engineering</td>\n",
       "      <td>2</td>\n",
       "      <td>99.09</td>\n",
       "      <td>55.44</td>\n",
       "      <td>57.45</td>\n",
       "      <td>78.78</td>\n",
       "      <td>55.96</td>\n",
       "      <td>62.9</td>\n",
       "      <td>84.74</td>\n",
       "      <td>68.6585</td>\n",
       "      <td>D</td>\n",
       "      <td>14.5</td>\n",
       "      <td>Yes</td>\n",
       "      <td>No</td>\n",
       "      <td>PhD</td>\n",
       "      <td>Medium</td>\n",
       "      <td>10</td>\n",
       "      <td>5.9</td>\n",
       "    </tr>\n",
       "    <tr>\n",
       "      <th>4999</th>\n",
       "      <td>Female</td>\n",
       "      <td>21</td>\n",
       "      <td>Mathematics</td>\n",
       "      <td>0</td>\n",
       "      <td>90.33</td>\n",
       "      <td>93.29</td>\n",
       "      <td>88.42</td>\n",
       "      <td>87.06</td>\n",
       "      <td>65.22</td>\n",
       "      <td>64.0</td>\n",
       "      <td>66.23</td>\n",
       "      <td>78.7485</td>\n",
       "      <td>C</td>\n",
       "      <td>29.9</td>\n",
       "      <td>Yes</td>\n",
       "      <td>Yes</td>\n",
       "      <td>PhD</td>\n",
       "      <td>High</td>\n",
       "      <td>2</td>\n",
       "      <td>5.3</td>\n",
       "    </tr>\n",
       "  </tbody>\n",
       "</table>\n",
       "<p>5000 rows × 20 columns</p>\n",
       "</div>"
      ],
      "text/plain": [
       "      Gender  Age   Department  department index  Attendance (%)  \\\n",
       "0     Female   22  Mathematics                 0           97.36   \n",
       "1       Male   18     Business                 1           97.71   \n",
       "2       Male   24  Engineering                 2           99.52   \n",
       "3     Female   24  Engineering                 2           90.38   \n",
       "4     Female   23           CS                 3           59.41   \n",
       "...      ...  ...          ...               ...             ...   \n",
       "4995    Male   19           CS                 3           96.09   \n",
       "4996    Male   19  Mathematics                 0           96.30   \n",
       "4997  Female   24           CS                 3           89.94   \n",
       "4998    Male   23  Engineering                 2           99.09   \n",
       "4999  Female   21  Mathematics                 0           90.33   \n",
       "\n",
       "      Midterm_Score  Final_Score  Assignments_Avg  Quizzes_Avg  \\\n",
       "0             40.61        59.61            73.69        53.17   \n",
       "1             57.27        74.00            74.23        98.23   \n",
       "2             41.84        63.85            85.85        50.00   \n",
       "3             45.65        44.44            68.10        66.27   \n",
       "4             53.13        61.77            67.66        83.98   \n",
       "...             ...          ...              ...          ...   \n",
       "4995          45.86        45.63            74.13        81.53   \n",
       "4996          78.67        47.42            57.89        85.96   \n",
       "4997          50.84        65.83            84.69        82.27   \n",
       "4998          55.44        57.45            78.78        55.96   \n",
       "4999          93.29        88.42            87.06        65.22   \n",
       "\n",
       "      Participation_Score  Projects_Score  Total_Score Grade  \\\n",
       "0                    73.4           62.84      59.8865     F   \n",
       "1                    88.0           98.23      81.9170     B   \n",
       "2                     4.7           91.22      67.7170     D   \n",
       "3                     4.2           55.48      51.6535     F   \n",
       "4                    64.3           87.43      71.4030     C   \n",
       "...                   ...             ...          ...   ...   \n",
       "4995                  9.8           51.66      53.5470     F   \n",
       "4996                 47.8           52.33      59.0240     F   \n",
       "4997                  7.5           97.89      74.7560     C   \n",
       "4998                 62.9           84.74      68.6585     D   \n",
       "4999                 64.0           66.23      78.7485     C   \n",
       "\n",
       "      Study_Hours_per_Week Extracurricular_Activities Internet_Access_at_Home  \\\n",
       "0                     10.3                        Yes                      No   \n",
       "1                     27.1                         No                      No   \n",
       "2                     12.4                        Yes                      No   \n",
       "3                     25.5                         No                     Yes   \n",
       "4                     13.3                        Yes                      No   \n",
       "...                    ...                        ...                     ...   \n",
       "4995                   7.8                         No                      No   \n",
       "4996                  24.2                         No                     Yes   \n",
       "4997                   7.6                         No                     Yes   \n",
       "4998                  14.5                        Yes                      No   \n",
       "4999                  29.9                        Yes                     Yes   \n",
       "\n",
       "     Parent_Education_Level Family_Income_Level  Stress_Level (1-10)  \\\n",
       "0                  Master's              Medium                    1   \n",
       "1               High School                 Low                    4   \n",
       "2               High School                 Low                    9   \n",
       "3               High School                 Low                    8   \n",
       "4                  Master's              Medium                    6   \n",
       "...                     ...                 ...                  ...   \n",
       "4995               Master's              Medium                   10   \n",
       "4996                    NaN              Medium                    4   \n",
       "4997                    NaN                High                    5   \n",
       "4998                    PhD              Medium                   10   \n",
       "4999                    PhD                High                    2   \n",
       "\n",
       "      Sleep_Hours_per_Night  \n",
       "0                       5.9  \n",
       "1                       4.3  \n",
       "2                       6.1  \n",
       "3                       4.9  \n",
       "4                       4.5  \n",
       "...                     ...  \n",
       "4995                    4.5  \n",
       "4996                    7.2  \n",
       "4997                    6.6  \n",
       "4998                    5.9  \n",
       "4999                    5.3  \n",
       "\n",
       "[5000 rows x 20 columns]"
      ]
     },
     "execution_count": 9,
     "metadata": {},
     "output_type": "execute_result"
    }
   ],
   "source": [
    "labels = open('departments.txt').read().splitlines()\n",
    "department_mapping = {name: index for index, name in enumerate(labels)}\n",
    "department_indices = education_data['Department'].map(department_mapping)\n",
    "education_data.insert(3, 'department index', department_indices)\n",
    "education_data"
   ]
  },
  {
   "cell_type": "code",
   "execution_count": null,
   "id": "f2cbb911-974a-44fe-86fa-c7386cb40976",
   "metadata": {},
   "outputs": [],
   "source": []
  }
 ],
 "metadata": {
  "kernelspec": {
   "display_name": "Python 3 (ipykernel)",
   "language": "python",
   "name": "python3"
  },
  "language_info": {
   "codemirror_mode": {
    "name": "ipython",
    "version": 3
   },
   "file_extension": ".py",
   "mimetype": "text/x-python",
   "name": "python",
   "nbconvert_exporter": "python",
   "pygments_lexer": "ipython3",
   "version": "3.12.11"
  }
 },
 "nbformat": 4,
 "nbformat_minor": 5
}
